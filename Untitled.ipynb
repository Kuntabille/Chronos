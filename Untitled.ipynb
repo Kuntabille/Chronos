{
 "cells": [
  {
   "cell_type": "code",
   "execution_count": 1,
   "id": "61ba0d50-0a0e-4cf0-9afb-6ad5fb4347b9",
   "metadata": {},
   "outputs": [
    {
     "ename": "ModuleNotFoundError",
     "evalue": "No module named 'llama_index'",
     "output_type": "error",
     "traceback": [
      "\u001b[0;31m---------------------------------------------------------------------------\u001b[0m",
      "\u001b[0;31mModuleNotFoundError\u001b[0m                       Traceback (most recent call last)",
      "Cell \u001b[0;32mIn[1], line 1\u001b[0m\n\u001b[0;32m----> 1\u001b[0m \u001b[38;5;28;01mfrom\u001b[39;00m \u001b[38;5;21;01mllama_index\u001b[39;00m\u001b[38;5;21;01m.\u001b[39;00m\u001b[38;5;21;01mcore\u001b[39;00m \u001b[38;5;28;01mimport\u001b[39;00m VectorStoreIndex, SimpleDirectoryReader, StorageContext\n\u001b[1;32m      2\u001b[0m \u001b[38;5;28;01mimport\u001b[39;00m \u001b[38;5;21;01mchromadb\u001b[39;00m\n\u001b[1;32m      3\u001b[0m \u001b[38;5;28;01mimport\u001b[39;00m \u001b[38;5;21;01mos\u001b[39;00m\n",
      "\u001b[0;31mModuleNotFoundError\u001b[0m: No module named 'llama_index'"
     ]
    }
   ],
   "source": [
    "from llama_index.core import VectorStoreIndex, SimpleDirectoryReader, StorageContext\n",
    "import chromadb\n",
    "import os\n",
    "from llama_index.readers.file import PDFReader\n",
    "from llama_index.vector_stores.chroma import ChromaVectorStore\n",
    "\n",
    "\n",
    "def load_pdf_for_rag(pdf_path, storage_context):\n",
    "    # Load the pdf as documents\n",
    "    if not os.path.exists(pdf_path):\n",
    "        raise FileNotFoundError(f\"The PDF file '{pdf_path}' does not exist.\")\n",
    "\n",
    "    pdf_reader = PDFReader()\n",
    "    documents = pdf_reader.load_data(file=pdf_path)\n",
    "\n",
    "    # Initialize the VectorStoreIndex with the loaded documents\n",
    "    index = VectorStoreIndex.from_documents(documents, storage_context=storage_context)\n",
    "    return index\n",
    "\n",
    "def load_index_for_rag(index_name):\n",
    "    # generate database name to load\n",
    "    db_name = \"index_dbs/\" + index_name + \"_db\"\n",
    "    if not os.path.exists(db_name):\n",
    "        create_db = True\n",
    "    else:\n",
    "        create_db = False\n",
    "\n",
    "    # initialize client, setting path to save data\n",
    "    db = chromadb.PersistentClient(path=db_name)\n",
    "\n",
    "    # create collection\n",
    "    chroma_collection = db.get_or_create_collection(\"quickstart\")\n",
    "\n",
    "    # assign chroma as the vector_store to the context\n",
    "    vector_store = ChromaVectorStore(chroma_collection=chroma_collection)\n",
    "    storage_context = StorageContext.from_defaults(vector_store=vector_store)\n",
    "\n",
    "    if create_db:\n",
    "        # load index from pdf file and create the database for next time\n",
    "        pdf_path = \"data/\" + index_name + \".pdf\"\n",
    "        index = load_pdf_for_rag(pdf_path, storage_context)\n",
    "    else:\n",
    "        # load index from database\n",
    "        index = VectorStoreIndex.from_vector_store(\n",
    "            vector_store, storage_context=storage_context\n",
    "        )\n",
    "\n",
    "    # Create a retriever from the index\n",
    "    retriever = index.as_retriever()\n",
    "    return retriever\n",
    "\n",
    "def fetch_relevant_documents(message, retriever):\n",
    "    if retriever is None:\n",
    "        raise ValueError(\"Retriever has not been initialized. Call load_pdf_for_rag() first.\")\n",
    "    \n",
    "    # Retrieve relevant nodes based on the input message\n",
    "    retrieved_nodes = retriever.retrieve(message)\n",
    "    print(f\"{len(retrieved_nodes)} documents found.\")\n",
    "    \n",
    "    if not retrieved_nodes:\n",
    "        return \"No relevant information found.\"\n",
    "    \n",
    "    # Combine the content of retrieved nodes into a single string\n",
    "    relevant_content = \"\\n\\n\\n\".join([node.node.text for node in retrieved_nodes])\n",
    "\n",
    "    return relevant_content"
   ]
  },
  {
   "cell_type": "code",
   "execution_count": null,
   "id": "f85f51b9-4bd3-4636-8f7f-05671790227d",
   "metadata": {},
   "outputs": [],
   "source": []
  }
 ],
 "metadata": {
  "kernelspec": {
   "display_name": "Python 3 (ipykernel)",
   "language": "python",
   "name": "python3"
  },
  "language_info": {
   "codemirror_mode": {
    "name": "ipython",
    "version": 3
   },
   "file_extension": ".py",
   "mimetype": "text/x-python",
   "name": "python",
   "nbconvert_exporter": "python",
   "pygments_lexer": "ipython3",
   "version": "3.9.6"
  }
 },
 "nbformat": 4,
 "nbformat_minor": 5
}
